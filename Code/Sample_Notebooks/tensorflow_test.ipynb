{
 "cells": [
  {
   "cell_type": "code",
   "execution_count": 5,
   "metadata": {},
   "outputs": [],
   "source": [
    "import tensorflow as tf\n",
    "from tensorflow import keras"
   ]
  },
  {
   "cell_type": "code",
   "execution_count": 13,
   "metadata": {},
   "outputs": [
    {
     "name": "stdout",
     "output_type": "stream",
     "text": [
      "tf.Tensor(\n",
      "[[1. 0.]\n",
      " [1. 0.]], shape=(2, 2), dtype=float32)\n"
     ]
    }
   ],
   "source": [
    "\n",
    "W = tf.Variable(tf.ones(shape=(2,2)), name=\"W\")\n",
    "b = tf.Variable(tf.zeros(shape=(2)), name=\"b\")\n",
    "\n",
    "@tf.function\n",
    "def simple_model(x):\n",
    "    return W * x + b\n",
    "out = simple_model([1,0])\n",
    "print(out)"
   ]
  },
  {
   "cell_type": "code",
   "execution_count": 11,
   "metadata": {},
   "outputs": [
    {
     "name": "stdout",
     "output_type": "stream",
     "text": [
      "Model: \"sequential\"\n",
      "_________________________________________________________________\n",
      "Layer (type)                 Output Shape              Param #   \n",
      "=================================================================\n",
      "dense (Dense)                (None, 512)               401920    \n",
      "_________________________________________________________________\n",
      "dropout (Dropout)            (None, 512)               0         \n",
      "_________________________________________________________________\n",
      "dense_1 (Dense)              (None, 10)                5130      \n",
      "=================================================================\n",
      "Total params: 407,050\n",
      "Trainable params: 407,050\n",
      "Non-trainable params: 0\n",
      "_________________________________________________________________\n"
     ]
    }
   ],
   "source": [
    "# Define a simple sequential model\n",
    "def create_model():\n",
    "  model = tf.keras.models.Sequential([\n",
    "    keras.layers.Dense(512, activation='relu', input_shape=(784,)),\n",
    "    keras.layers.Dropout(0.2),\n",
    "    keras.layers.Dense(10)\n",
    "  ])\n",
    "\n",
    "  model.compile(optimizer='adam',\n",
    "                loss=tf.losses.SparseCategoricalCrossentropy(from_logits=True),\n",
    "                metrics=[tf.metrics.SparseCategoricalAccuracy()])\n",
    "\n",
    "  return model\n",
    "\n",
    "# Create a basic model instance\n",
    "model = create_model()\n",
    "\n",
    "# Display the model's architecture\n",
    "model.summary()"
   ]
  },
  {
   "cell_type": "code",
   "execution_count": 70,
   "metadata": {},
   "outputs": [
    {
     "name": "stdout",
     "output_type": "stream",
     "text": [
      "(1000, 784)\n"
     ]
    }
   ],
   "source": [
    "(train_images, train_labels), (test_images, test_labels) = tf.keras.datasets.mnist.load_data()\n",
    "\n",
    "train_labels = train_labels[:1000]\n",
    "test_labels = test_labels[:1000]\n",
    "\n",
    "train_images = train_images[:1000].reshape(-1, 28 * 28) / 255.0\n",
    "test_images = test_images[:1000].reshape(-1, 28 * 28) / 255.0\n",
    "\n",
    "print(np.shape(train_images))"
   ]
  },
  {
   "cell_type": "code",
   "execution_count": 14,
   "metadata": {},
   "outputs": [
    {
     "name": "stdout",
     "output_type": "stream",
     "text": [
      "Epoch 1/10\n",
      "32/32 [==============================] - 0s 6ms/step - loss: 1.1482 - sparse_categorical_accuracy: 0.6630 - val_loss: 0.7143 - val_sparse_categorical_accuracy: 0.7830\n",
      "Epoch 2/10\n",
      "32/32 [==============================] - 0s 3ms/step - loss: 0.4206 - sparse_categorical_accuracy: 0.8960 - val_loss: 0.5610 - val_sparse_categorical_accuracy: 0.8170\n",
      "Epoch 3/10\n",
      "32/32 [==============================] - 0s 3ms/step - loss: 0.2838 - sparse_categorical_accuracy: 0.9260 - val_loss: 0.5029 - val_sparse_categorical_accuracy: 0.8350\n",
      "Epoch 4/10\n",
      "32/32 [==============================] - 0s 3ms/step - loss: 0.2126 - sparse_categorical_accuracy: 0.9430 - val_loss: 0.4319 - val_sparse_categorical_accuracy: 0.8610\n",
      "Epoch 5/10\n",
      "32/32 [==============================] - 0s 3ms/step - loss: 0.1496 - sparse_categorical_accuracy: 0.9700 - val_loss: 0.4252 - val_sparse_categorical_accuracy: 0.8580\n",
      "Epoch 6/10\n",
      "32/32 [==============================] - 0s 3ms/step - loss: 0.1163 - sparse_categorical_accuracy: 0.9780 - val_loss: 0.3926 - val_sparse_categorical_accuracy: 0.8730\n",
      "Epoch 7/10\n",
      "32/32 [==============================] - 0s 3ms/step - loss: 0.0847 - sparse_categorical_accuracy: 0.9860 - val_loss: 0.3925 - val_sparse_categorical_accuracy: 0.8740\n",
      "Epoch 8/10\n",
      "32/32 [==============================] - 0s 3ms/step - loss: 0.0639 - sparse_categorical_accuracy: 0.9930 - val_loss: 0.4100 - val_sparse_categorical_accuracy: 0.8660\n",
      "Epoch 9/10\n",
      "32/32 [==============================] - 0s 3ms/step - loss: 0.0545 - sparse_categorical_accuracy: 0.9940 - val_loss: 0.4206 - val_sparse_categorical_accuracy: 0.8640\n",
      "Epoch 10/10\n",
      "32/32 [==============================] - 0s 3ms/step - loss: 0.0410 - sparse_categorical_accuracy: 0.9990 - val_loss: 0.4195 - val_sparse_categorical_accuracy: 0.8690\n"
     ]
    },
    {
     "data": {
      "text/plain": [
       "<tensorflow.python.keras.callbacks.History at 0x7f1e5ff112e0>"
      ]
     },
     "execution_count": 14,
     "metadata": {},
     "output_type": "execute_result"
    }
   ],
   "source": [
    "model.fit(train_images, \n",
    "          train_labels,  \n",
    "          epochs=10,\n",
    "          validation_data=(test_images, test_labels)) "
   ]
  },
  {
   "cell_type": "code",
   "execution_count": 15,
   "metadata": {},
   "outputs": [
    {
     "name": "stdout",
     "output_type": "stream",
     "text": [
      "32/32 - 0s - loss: 0.4195 - sparse_categorical_accuracy: 0.8690\n",
      "Untrained model, accuracy: 86.90%\n",
      "WARNING:tensorflow:From /home/sachin/.local/lib/python3.8/site-packages/tensorflow/python/training/tracking/tracking.py:111: Model.state_updates (from tensorflow.python.keras.engine.training) is deprecated and will be removed in a future version.\n",
      "Instructions for updating:\n",
      "This property should not be used in TensorFlow 2.0, as updates are applied automatically.\n",
      "WARNING:tensorflow:From /home/sachin/.local/lib/python3.8/site-packages/tensorflow/python/training/tracking/tracking.py:111: Layer.updates (from tensorflow.python.keras.engine.base_layer) is deprecated and will be removed in a future version.\n",
      "Instructions for updating:\n",
      "This property should not be used in TensorFlow 2.0, as updates are applied automatically.\n",
      "INFO:tensorflow:Assets written to: models/mnist/1/model.savedmodel/assets\n"
     ]
    }
   ],
   "source": [
    "# Evaluate the model\n",
    "loss, acc = model.evaluate(test_images, test_labels, verbose=2)\n",
    "print(\"Untrained model, accuracy: {:5.2f}%\".format(100 * acc))\n",
    "model.save(\"models/mnist/1/model.savedmodel\")"
   ]
  },
  {
   "cell_type": "code",
   "execution_count": 89,
   "metadata": {
    "scrolled": true
   },
   "outputs": [
    {
     "data": {
      "text/plain": [
       "array([[ 0.17135115, -6.4116397 , -0.34636346,  1.4378225 , -4.5923405 ,\n",
       "        -1.3223665 , -8.255523  , 10.684266  , -2.4663098 ,  2.3591187 ]],\n",
       "      dtype=float32)"
      ]
     },
     "execution_count": 89,
     "metadata": {},
     "output_type": "execute_result"
    }
   ],
   "source": [
    "model.predict(test_images[0:1])"
   ]
  },
  {
   "cell_type": "markdown",
   "metadata": {},
   "source": [
    "### Triton Server Setup"
   ]
  },
  {
   "cell_type": "code",
   "execution_count": null,
   "metadata": {},
   "outputs": [],
   "source": [
    "!docker run --rm -p 8000:8000 -p 8001:8001 -p 8002:8002 -v /home/sachin/Documents/OXFORD/models:/models nvcr.io/nvidia/tritonserver:20.11-py3 tritonserver --model-repository=/models"
   ]
  },
  {
   "cell_type": "code",
   "execution_count": 62,
   "metadata": {},
   "outputs": [
    {
     "data": {
      "text/plain": [
       "{'name': 'mnist',\n",
       " 'versions': ['1'],\n",
       " 'platform': 'tensorflow_savedmodel',\n",
       " 'inputs': [{'name': 'dense_input', 'datatype': 'FP32', 'shape': [-1, 784]}],\n",
       " 'outputs': [{'name': 'dense_1', 'datatype': 'FP32', 'shape': [-1, 10]}]}"
      ]
     },
     "execution_count": 62,
     "metadata": {},
     "output_type": "execute_result"
    }
   ],
   "source": [
    "import tritonclient.http as httpclient\n",
    "triton_client = httpclient.InferenceServerClient(url=\"localhost:8000\")\n",
    "triton_client.get_model_metadata(\"mnist\")"
   ]
  },
  {
   "cell_type": "code",
   "execution_count": 86,
   "metadata": {},
   "outputs": [
    {
     "name": "stdout",
     "output_type": "stream",
     "text": [
      "{'model_name': 'mnist', 'model_version': '1', 'outputs': [{'name': 'dense_1', 'datatype': 'FP32', 'shape': [1, 10], 'data': [0.17135114967823029, -6.41163969039917, -0.34636345505714417, 1.4378224611282349, -4.592340469360352, -1.32236647605896, -8.255522727966309, 10.684266090393066, -2.4663097858428955, 2.359118700027466]}]}\n"
     ]
    }
   ],
   "source": [
    "import numpy as np\n",
    "inputs = []\n",
    "outputs = []\n",
    "inputs.append(httpclient.InferInput('dense_input', [1,784], \"FP32\"))\n",
    "\n",
    "inputs[0].set_data_from_numpy(np.float32(test_images[0:1]))\n",
    "outputs.append(httpclient.InferRequestedOutput('dense_1',binary_data=False))\n",
    "results = triton_client.infer(\"mnist\",inputs,outputs=outputs)\n",
    "\n",
    "print(results.get_response())"
   ]
  }
 ],
 "metadata": {
  "kernelspec": {
   "display_name": "Python 3",
   "language": "python",
   "name": "python3"
  },
  "language_info": {
   "codemirror_mode": {
    "name": "ipython",
    "version": 3
   },
   "file_extension": ".py",
   "mimetype": "text/x-python",
   "name": "python",
   "nbconvert_exporter": "python",
   "pygments_lexer": "ipython3",
   "version": "3.8.5"
  }
 },
 "nbformat": 4,
 "nbformat_minor": 4
}
