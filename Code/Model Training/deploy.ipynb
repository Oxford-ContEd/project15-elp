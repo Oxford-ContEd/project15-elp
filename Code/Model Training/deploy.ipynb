{
 "cells": [
  {
   "cell_type": "markdown",
   "metadata": {},
   "source": [
    "### Run Triton Server"
   ]
  },
  {
   "cell_type": "code",
   "execution_count": null,
   "metadata": {},
   "outputs": [
    {
     "name": "stdout",
     "output_type": "stream",
     "text": [
      "\n",
      "=============================\n",
      "== Triton Inference Server ==\n",
      "=============================\n",
      "\n",
      "NVIDIA Release 20.11 (build <unknown>)\n",
      "\n",
      "Copyright (c) 2018-2020, NVIDIA CORPORATION.  All rights reserved.\n",
      "\n",
      "Various files include modifications (c) NVIDIA CORPORATION.  All rights reserved.\n",
      "NVIDIA modifications are covered by the license terms that apply to the underlying\n",
      "project or file.\n",
      "\n",
      "WARNING: The NVIDIA Driver was not detected.  GPU functionality will not be available.\n",
      "   Use 'nvidia-docker run' to start this container; see\n",
      "   https://github.com/NVIDIA/nvidia-docker/wiki/nvidia-docker .\n",
      "\n",
      "NOTE: The SHMEM allocation limit is set to the default of 64MB.  This may be\n",
      "   insufficient for the inference server.  NVIDIA recommends the use of the following flags:\n",
      "   nvidia-docker run --shm-size=1g --ulimit memlock=-1 --ulimit stack=67108864 ...\n",
      "\n",
      "E0124 09:36:14.433448 1 pinned_memory_manager.cc:196] failed to allocate pinned system memory: CUDA driver version is insufficient for CUDA runtime version\n",
      "I0124 09:36:14.434543 1 model_repository_manager.cc:810] loading: gunshot-detection:1\n",
      "I0124 09:36:14.434697 1 model_repository_manager.cc:810] loading: mnist:1\n",
      "2021-01-24 09:36:14.670468: I tensorflow/stream_executor/platform/default/dso_loader.cc:49] Successfully opened dynamic library libcudart.so.11.0\n",
      "I0124 09:36:14.724910 1 tensorflow.cc:1876] TRITONBACKEND_Initialize: tensorflow\n",
      "I0124 09:36:14.724930 1 tensorflow.cc:1889] Triton TRITONBACKEND API version: 1.0\n",
      "I0124 09:36:14.724936 1 tensorflow.cc:1895] 'tensorflow' TRITONBACKEND API version: 1.0\n",
      "I0124 09:36:14.724940 1 tensorflow.cc:1916] backend configuration:\n",
      "{}\n",
      "I0124 09:36:14.724973 1 tensorflow.cc:1978] TRITONBACKEND_ModelInitialize: gunshot-detection (version 1)\n",
      "I0124 09:36:14.725006 1 tensorflow.cc:1978] TRITONBACKEND_ModelInitialize: mnist (version 1)\n",
      "I0124 09:36:14.725999 1 tensorflow.cc:2028] TRITONBACKEND_ModelInstanceInitialize: gunshot-detection (CPU device 0)\n",
      "I0124 09:36:14.726013 1 tensorflow.cc:2028] TRITONBACKEND_ModelInstanceInitialize: mnist (CPU device 0)\n",
      "2021-01-24 09:36:14.726038: I tensorflow/cc/saved_model/reader.cc:31] Reading SavedModel from: /models/gunshot-detection/1/model.savedmodel\n",
      "2021-01-24 09:36:14.726044: I tensorflow/cc/saved_model/reader.cc:31] Reading SavedModel from: /models/mnist/1/model.savedmodel\n",
      "2021-01-24 09:36:14.728576: I tensorflow/cc/saved_model/reader.cc:54] Reading meta graph with tags { serve }\n",
      "2021-01-24 09:36:14.729765: I tensorflow/cc/saved_model/reader.cc:54] Reading meta graph with tags { serve }\n",
      "2021-01-24 09:36:14.753383: I tensorflow/core/platform/profile_utils/cpu_utils.cc:94] CPU Frequency: 1999965000 Hz\n",
      "2021-01-24 09:36:14.754068: I tensorflow/compiler/xla/service/service.cc:168] XLA service 0x7fa92c00f3b0 initialized for platform Host (this does not guarantee that XLA will be used). Devices:\n",
      "2021-01-24 09:36:14.754088: I tensorflow/compiler/xla/service/service.cc:176]   StreamExecutor device (0): Host, Default Version\n",
      "2021-01-24 09:36:14.754300: W tensorflow/stream_executor/platform/default/dso_loader.cc:60] Could not load dynamic library 'libcuda.so.1'; dlerror: libcuda.so.1: cannot open shared object file: No such file or directory; LD_LIBRARY_PATH: /opt/tritonserver/lib/pytorch/:/usr/local/cuda/compat/lib:/usr/local/nvidia/lib:/usr/local/nvidia/lib64\n",
      "2021-01-24 09:36:14.754312: E tensorflow/stream_executor/cuda/cuda_driver.cc:339] failed call to cuInit: UNKNOWN ERROR (303)\n",
      "2021-01-24 09:36:14.754326: I tensorflow/stream_executor/cuda/cuda_diagnostics.cc:163] no NVIDIA GPU device is present: /dev/nvidia0 does not exist\n",
      "2021-01-24 09:36:14.767717: I tensorflow/cc/saved_model/loader.cc:251] Restoring SavedModel bundle.\n",
      "2021-01-24 09:36:14.767999: I tensorflow/cc/saved_model/loader.cc:251] Restoring SavedModel bundle.\n",
      "2021-01-24 09:36:14.809322: I tensorflow/cc/saved_model/loader.cc:200] Running initialization op on SavedModel bundle at path: /models/mnist/1/model.savedmodel\n",
      "2021-01-24 09:36:14.816781: I tensorflow/cc/saved_model/loader.cc:379] SavedModel load for tags { serve }; Status: success. Took 90735 microseconds.\n",
      "I0124 09:36:14.816999 1 model_repository_manager.cc:983] successfully loaded 'mnist' version 1\n",
      "2021-01-24 09:36:14.829326: I tensorflow/cc/saved_model/loader.cc:200] Running initialization op on SavedModel bundle at path: /models/gunshot-detection/1/model.savedmodel\n",
      "2021-01-24 09:36:14.839776: I tensorflow/cc/saved_model/loader.cc:379] SavedModel load for tags { serve }; Status: success. Took 113742 microseconds.\n",
      "I0124 09:36:14.839934 1 model_repository_manager.cc:983] successfully loaded 'gunshot-detection' version 1\n",
      "I0124 09:36:14.840045 1 server.cc:141] \n",
      "+------------+-----------------------------------------------------------------+------+\n",
      "| Backend    | Config                                                          | Path |\n",
      "+------------+-----------------------------------------------------------------+------+\n",
      "| tensorflow | /opt/tritonserver/backends/tensorflow1/libtriton_tensorflow1.so | {}   |\n",
      "+------------+-----------------------------------------------------------------+------+\n",
      "\n",
      "I0124 09:36:14.840081 1 server.cc:184] \n",
      "+-------------------+---------+--------+\n",
      "| Model             | Version | Status |\n",
      "+-------------------+---------+--------+\n",
      "| gunshot-detection | 1       | READY  |\n",
      "| mnist             | 1       | READY  |\n",
      "+-------------------+---------+--------+\n",
      "\n",
      "I0124 09:36:14.840162 1 tritonserver.cc:1620] \n",
      "+----------------------------------+----------------------------------------------------------------------------------------------------------------------------------------------------+\n",
      "| Option                           | Value                                                                                                                                              |\n",
      "+----------------------------------+----------------------------------------------------------------------------------------------------------------------------------------------------+\n",
      "| server_id                        | triton                                                                                                                                             |\n",
      "| server_version                   | 2.5.0                                                                                                                                              |\n",
      "| server_extensions                | classification sequence model_repository schedule_policy model_configuration system_shared_memory cuda_shared_memory binary_tensor_data statistics |\n",
      "| model_repository_path[0]         | /models                                                                                                                                            |\n",
      "| model_control_mode               | MODE_NONE                                                                                                                                          |\n",
      "| strict_model_config              | 1                                                                                                                                                  |\n",
      "| pinned_memory_pool_byte_size     | 268435456                                                                                                                                          |\n",
      "| min_supported_compute_capability | 6.0                                                                                                                                                |\n",
      "| strict_readiness                 | 1                                                                                                                                                  |\n",
      "| exit_timeout                     | 30                                                                                                                                                 |\n",
      "+----------------------------------+----------------------------------------------------------------------------------------------------------------------------------------------------+\n",
      "\n",
      "I0124 09:36:14.841154 1 grpc_server.cc:3979] Started GRPCInferenceService at 0.0.0.0:8001\n",
      "I0124 09:36:14.841407 1 http_server.cc:2717] Started HTTPService at 0.0.0.0:8000\n"
     ]
    },
    {
     "name": "stdout",
     "output_type": "stream",
     "text": [
      "I0124 09:36:14.883347 1 http_server.cc:2736] Started Metrics Service at 0.0.0.0:8002\r\n"
     ]
    }
   ],
   "source": [
    "!docker run --rm -p 8000:8000 -p 8001:8001 -p 8002:8002 -v /home/sachin/Documents/OXFORD/Project\\ 15/Code/Model\\ Training/models/:/models nvcr.io/nvidia/tritonserver:20.11-py3 tritonserver --model-repository=/models"
   ]
  },
  {
   "cell_type": "code",
   "execution_count": 18,
   "metadata": {},
   "outputs": [
    {
     "data": {
      "text/plain": [
       "{'name': 'gunshot-detection',\n",
       " 'versions': ['1'],\n",
       " 'platform': 'tensorflow_savedmodel',\n",
       " 'inputs': [{'name': 'flatten_input',\n",
       "   'datatype': 'FP32',\n",
       "   'shape': [-1, 10, 13]}],\n",
       " 'outputs': [{'name': 'dense_3', 'datatype': 'FP32', 'shape': [-1, 2]}]}"
      ]
     },
     "execution_count": 18,
     "metadata": {},
     "output_type": "execute_result"
    }
   ],
   "source": [
    "import tritonclient.http as httpclient\n",
    "triton_client = httpclient.InferenceServerClient(url=\"localhost:8000\")\n",
    "triton_client.get_model_metadata(\"gunshot-detection\")"
   ]
  },
  {
   "cell_type": "code",
   "execution_count": 19,
   "metadata": {},
   "outputs": [
    {
     "name": "stdout",
     "output_type": "stream",
     "text": [
      "Data succesfully loaded!\n"
     ]
    }
   ],
   "source": [
    "import json\n",
    "import numpy as np\n",
    "from sklearn.model_selection import train_test_split\n",
    "\n",
    "# path to json file that stores MFCCs and genre labels for each processed segment\n",
    "DATA_PATH = \"./dataset.json\"\n",
    "\n",
    "\n",
    "def load_data(data_path):\n",
    "    \"\"\"Loads training dataset from json file.\n",
    "\n",
    "        :param data_path (str): Path to json file containing data\n",
    "        :return X (ndarray): Inputs\n",
    "        :return y (ndarray): Targets\n",
    "    \"\"\"\n",
    "\n",
    "    with open(data_path, \"r\") as fp:\n",
    "        data = json.load(fp)\n",
    "\n",
    "    # convert lists to numpy arrays\n",
    "    X = np.array(data[\"mfcc\"])\n",
    "    y = np.array(data[\"labels\"])\n",
    "\n",
    "    print(\"Data succesfully loaded!\")\n",
    "    return X, y\n",
    "\n",
    "\n",
    "# load data\n",
    "X, y = load_data(DATA_PATH)\n",
    "# create train/test split\n",
    "X_train, X_test, y_train, y_test = train_test_split(X, y, test_size=0.3)"
   ]
  },
  {
   "cell_type": "code",
   "execution_count": 33,
   "metadata": {},
   "outputs": [
    {
     "name": "stdout",
     "output_type": "stream",
     "text": [
      "[1.1463476563365724e-16, 1.0]\n",
      "Target: [1], Predicted label: 1\n"
     ]
    }
   ],
   "source": [
    "import numpy as np\n",
    "inputs = []\n",
    "outputs = []\n",
    "inputs.append(httpclient.InferInput('flatten_input', [1,10,13], \"FP32\"))\n",
    "\n",
    "inputs[0].set_data_from_numpy(np.float32(X_test[0:1]))\n",
    "outputs.append(httpclient.InferRequestedOutput('dense_3',binary_data=False))\n",
    "results = triton_client.infer(\"gunshot-detection\",inputs,outputs=outputs)\n",
    "\n",
    "prediction_data = results.get_response()\n",
    "prediction = prediction_data.get(\"outputs\")[0][\"data\"]\n",
    "print(prediction)\n",
    "\n",
    "# get index with max value\n",
    "predicted_index = np.argmax(prediction)\n",
    "\n",
    "print(\"Target: {}, Predicted label: {}\".format(y_test[0:1], predicted_index))"
   ]
  }
 ],
 "metadata": {
  "kernelspec": {
   "display_name": "Python 3",
   "language": "python",
   "name": "python3"
  },
  "language_info": {
   "codemirror_mode": {
    "name": "ipython",
    "version": 3
   },
   "file_extension": ".py",
   "mimetype": "text/x-python",
   "name": "python",
   "nbconvert_exporter": "python",
   "pygments_lexer": "ipython3",
   "version": "3.8.5"
  }
 },
 "nbformat": 4,
 "nbformat_minor": 4
}
